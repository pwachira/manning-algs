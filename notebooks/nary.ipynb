{
 "cells": [
  {
   "cell_type": "code",
   "execution_count": 3,
   "metadata": {},
   "outputs": [],
   "source": [
    "class NaryNode:\n",
    "    INDENT = \"  \"\n",
    "\n",
    "    def __init__(self, val: str) -> None:\n",
    "        self.value = val\n",
    "        self.children: list[NaryNode] = []\n",
    "\n",
    "    def __str__(self, level: int = 0) -> str:\n",
    "        return self.recurse(node=self, level=level)\n",
    "\n",
    "    def recurse(self, node: \"NaryNode\", level: int) -> str | None:\n",
    "        if not node:\n",
    "            return\n",
    "        curr_str = f\"{NaryNode.INDENT * level}{node.value}:\\n\"\n",
    "        children_str = \"\"\n",
    "        for child_node in node.children:\n",
    "            child_str = self.recurse(node=child_node, level=level + 1)\n",
    "            children_str = f\"{children_str}{child_str}\"\n",
    "        return f\"{curr_str}{children_str}\"\n",
    "\n",
    "    def add_child(self, node: \"NaryNode\") -> \"NaryNode\":\n",
    "        self.children.append(node)\n",
    "        return node"
   ]
  },
  {
   "cell_type": "code",
   "execution_count": 4,
   "metadata": {},
   "outputs": [
    {
     "name": "stdout",
     "output_type": "stream",
     "text": [
      "Root:\n",
      "  A:\n",
      "    D:\n",
      "      G:\n",
      "    E:\n",
      "  B:\n",
      "  C:\n",
      "    F:\n",
      "      H:\n",
      "      I:\n",
      "\n"
     ]
    }
   ],
   "source": [
    "root = NaryNode(\"Root\")\n",
    "[a, b, c] = [\n",
    "    root.add_child(root_child)\n",
    "    for root_child in [NaryNode(\"A\"), NaryNode(\"B\"), NaryNode(\"C\")]\n",
    "]\n",
    "[d, e] = [a.add_child(a_child) for a_child in [NaryNode(\"D\"), NaryNode(\"E\")]]\n",
    "f = c.add_child(NaryNode(\"F\"))\n",
    "g = d.add_child(NaryNode(\"G\"))\n",
    "[h, i] = [f.add_child(f_child) for f_child in [NaryNode(\"H\"), NaryNode(\"I\")]]\n",
    "\n",
    "\n",
    "tree = root.__str__()\n",
    "print(tree)\n",
    "tree_a = a.__str__()"
   ]
  }
 ],
 "metadata": {
  "kernelspec": {
   "display_name": "manning",
   "language": "python",
   "name": "python3"
  },
  "language_info": {
   "codemirror_mode": {
    "name": "ipython",
    "version": 3
   },
   "file_extension": ".py",
   "mimetype": "text/x-python",
   "name": "python",
   "nbconvert_exporter": "python",
   "pygments_lexer": "ipython3",
   "version": "3.10.7"
  }
 },
 "nbformat": 4,
 "nbformat_minor": 2
}

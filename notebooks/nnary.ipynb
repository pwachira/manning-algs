{
 "cells": [
  {
   "cell_type": "code",
   "execution_count": 1,
   "metadata": {},
   "outputs": [],
   "source": [
    "class NnaryNode:\n",
    "    def __init__(self, val: str) -> None:\n",
    "        self.value = val\n",
    "        self.children: list[NnaryNode] = []\n",
    "\n",
    "    def __str__(self) -> str:\n",
    "        children = \" \".join([node.value for node in self.children])\n",
    "        return f\"{self.value}: {children}\"\n",
    "\n",
    "    def add_child(self, node: \"NnaryNode\") -> \"NnaryNode\":\n",
    "        self.children.append(node)\n",
    "        return node"
   ]
  },
  {
   "cell_type": "code",
   "execution_count": 2,
   "metadata": {},
   "outputs": [
    {
     "name": "stdout",
     "output_type": "stream",
     "text": [
      "Root: A B C\n",
      "A: D E\n",
      "B: \n",
      "C: F\n",
      "D: G\n",
      "E: \n",
      "F: H I\n",
      "G: \n",
      "H: \n",
      "I: \n"
     ]
    }
   ],
   "source": [
    "root = NnaryNode(\"Root\")\n",
    "[a, b, c] = [\n",
    "    root.add_child(root_child)\n",
    "    for root_child in [NnaryNode(\"A\"), NnaryNode(\"B\"), NnaryNode(\"C\")]\n",
    "]\n",
    "[d, e] = [a.add_child(a_child) for a_child in [NnaryNode(\"D\"), NnaryNode(\"E\")]]\n",
    "f = c.add_child(NnaryNode(\"F\"))\n",
    "g = d.add_child(NnaryNode(\"G\"))\n",
    "[h, i] = [f.add_child(f_child) for f_child in [NnaryNode(\"H\"), NnaryNode(\"I\")]]\n",
    "\n",
    "for node in [root, a, b, c, d, e, f, g, h, i]:\n",
    "    print(node)"
   ]
  }
 ],
 "metadata": {
  "kernelspec": {
   "display_name": "manning",
   "language": "python",
   "name": "python3"
  },
  "language_info": {
   "codemirror_mode": {
    "name": "ipython",
    "version": 3
   },
   "file_extension": ".py",
   "mimetype": "text/x-python",
   "name": "python",
   "nbconvert_exporter": "python",
   "pygments_lexer": "ipython3",
   "version": "3.10.7"
  }
 },
 "nbformat": 4,
 "nbformat_minor": 2
}

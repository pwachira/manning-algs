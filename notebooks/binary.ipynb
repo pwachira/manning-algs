{
 "cells": [
  {
   "cell_type": "code",
   "execution_count": 11,
   "metadata": {},
   "outputs": [],
   "source": [
    "class BinaryNode:\n",
    "    INDENT = \"  \"\n",
    "\n",
    "    def __init__(self, value: str) -> None:\n",
    "        self.value = value\n",
    "        self.right: BinaryNode = None\n",
    "        self.left: BinaryNode = None\n",
    "\n",
    "    def __str__(self, level: int = 0) -> str:\n",
    "        return self.recurse(node=self, level=level)\n",
    "\n",
    "    def recurse(self, node: \"BinaryNode\", level=0) -> str:\n",
    "        if not node:\n",
    "            none_str = f\"{level * BinaryNode.INDENT}None\\n\"\n",
    "            return none_str\n",
    "        curr_str = f\"{level * BinaryNode.INDENT}{node.value}:\\n\"\n",
    "        left_str = f\"{self.recurse(node.left, level=level+1)}\"\n",
    "        right_str = f\"{self.recurse(node.right, level=level+1)}\"\n",
    "        if not node.left and not node.right:\n",
    "            children_str = curr_str\n",
    "        else:\n",
    "            children_str = f\"{curr_str}{left_str}{right_str}\"\n",
    "        return children_str\n",
    "\n",
    "    def add_left(self, node: \"BinaryNode\") -> \"BinaryNode\":\n",
    "        self.left = node\n",
    "        return self.left\n",
    "\n",
    "    def add_right(self, node: \"BinaryNode\") -> \"BinaryNode\":\n",
    "        self.right = node\n",
    "        return self.right"
   ]
  },
  {
   "cell_type": "code",
   "execution_count": 12,
   "metadata": {},
   "outputs": [
    {
     "name": "stdout",
     "output_type": "stream",
     "text": [
      "Root:\n",
      "  A:\n",
      "    C:\n",
      "    D:\n",
      "  B:\n",
      "    None\n",
      "    E:\n",
      "      F:\n",
      "      None\n",
      "\n",
      "A:\n",
      "  C:\n",
      "  D:\n",
      "\n"
     ]
    }
   ],
   "source": [
    "root = BinaryNode(\"Root\")\n",
    "a = root.add_left(BinaryNode(\"A\"))\n",
    "b = root.add_right(BinaryNode(\"B\"))\n",
    "c = a.add_left(BinaryNode(\"C\"))\n",
    "d = a.add_right(BinaryNode(\"D\"))\n",
    "e = b.add_right(BinaryNode(\"E\"))\n",
    "f = e.add_left(BinaryNode(\"F\"))\n",
    "tree = root.__str__()\n",
    "print(tree)\n",
    "a_tree = a.__str__()\n",
    "print(a_tree)"
   ]
  }
 ],
 "metadata": {
  "kernelspec": {
   "display_name": "manning",
   "language": "python",
   "name": "python3"
  },
  "language_info": {
   "codemirror_mode": {
    "name": "ipython",
    "version": 3
   },
   "file_extension": ".py",
   "mimetype": "text/x-python",
   "name": "python",
   "nbconvert_exporter": "python",
   "pygments_lexer": "ipython3",
   "version": "3.10.7"
  }
 },
 "nbformat": 4,
 "nbformat_minor": 2
}

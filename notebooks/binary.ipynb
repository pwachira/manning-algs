{
 "cells": [
  {
   "cell_type": "code",
   "execution_count": 1,
   "metadata": {},
   "outputs": [],
   "source": [
    "class BinaryNode:\n",
    "    def __init__(self, value: str) -> None:\n",
    "        self.value = value\n",
    "        self.right: BinaryNode = None\n",
    "        self.left: BinaryNode = None\n",
    "\n",
    "    def __str__(self, level: int = 0) -> str:\n",
    "        return self.recurse(node=self, level=level)\n",
    "\n",
    "    def recurse(self, node: \"BinaryNode\", level=0) -> str:\n",
    "        if not node:\n",
    "            none_str = f\"{level * BinaryNode.INDENT}None\\n\"\n",
    "            return none_str\n",
    "        curr_str = f\"{level * BinaryNode.INDENT}{node.value}:\\n\"\n",
    "        left_str = f\"{self.recurse(node.left, level=level+1)}\"\n",
    "        right_str = f\"{self.recurse(node.right, level=level+1)}\"\n",
    "        if not node.left and not node.right:\n",
    "            children_str = curr_str\n",
    "        else:\n",
    "            children_str = f\"{curr_str}{left_str}{right_str}\"\n",
    "        return children_str\n",
    "\n",
    "    def add_left(self, left_val: str):\n",
    "        self.left = BinaryNode(left_val)\n",
    "\n",
    "    def add_right(self, rt_val: str):\n",
    "        self.right = BinaryNode(rt_val)"
   ]
  },
  {
   "cell_type": "code",
   "execution_count": 2,
   "metadata": {},
   "outputs": [
    {
     "name": "stdout",
     "output_type": "stream",
     "text": [
      "Root: A B\n",
      "A: C D\n",
      "B: None E\n",
      "C: None None\n",
      "D: None None\n",
      "E: F None\n",
      "F: None None\n"
     ]
    }
   ],
   "source": [
    "root = BinaryNode(\"Root\")\n",
    "a = BinaryNode(\"A\")\n",
    "b = BinaryNode(\"B\")\n",
    "c = BinaryNode(\"C\")\n",
    "root.left = a\n",
    "root.right = b\n",
    "d = BinaryNode(\"D\")\n",
    "a.left = c\n",
    "a.right = d\n",
    "e = BinaryNode(\"E\")\n",
    "b.right = e\n",
    "f = BinaryNode(\"F\")\n",
    "e.left = f\n",
    "for node in [root, a, b, c, d, e, f]:\n",
    "    print(node)"
   ]
  }
 ],
 "metadata": {
  "kernelspec": {
   "display_name": "manning",
   "language": "python",
   "name": "python3"
  },
  "language_info": {
   "codemirror_mode": {
    "name": "ipython",
    "version": 3
   },
   "file_extension": ".py",
   "mimetype": "text/x-python",
   "name": "python",
   "nbconvert_exporter": "python",
   "pygments_lexer": "ipython3",
   "version": "3.10.7"
  }
 },
 "nbformat": 4,
 "nbformat_minor": 2
}
